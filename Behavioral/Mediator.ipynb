{
 "cells": [
  {
   "cell_type": "code",
   "id": "initial_id",
   "metadata": {
    "collapsed": true,
    "ExecuteTime": {
     "end_time": "2025-01-04T12:25:12.237505Z",
     "start_time": "2025-01-04T12:25:12.195202Z"
    }
   },
   "source": "from  abc import  ABCMeta, abstractmethod",
   "outputs": [],
   "execution_count": 1
  },
  {
   "metadata": {
    "ExecuteTime": {
     "end_time": "2025-01-04T12:25:12.536762Z",
     "start_time": "2025-01-04T12:25:12.530710Z"
    }
   },
   "cell_type": "code",
   "source": [
    "class IComponent(metaclass=ABCMeta):\n",
    "    @staticmethod\n",
    "    @abstractmethod\n",
    "    def notify(msg):\n",
    "        pass\n",
    "\n",
    "    @staticmethod\n",
    "    @abstractmethod\n",
    "    def receive(msg):\n",
    "        pass"
   ],
   "id": "bb88836fd587c51e",
   "outputs": [],
   "execution_count": 2
  },
  {
   "metadata": {
    "ExecuteTime": {
     "end_time": "2025-01-04T12:25:12.715349Z",
     "start_time": "2025-01-04T12:25:12.548653Z"
    }
   },
   "cell_type": "code",
   "source": [
    "class Component(IComponent):\n",
    "    def __init__(self, mediator, name):\n",
    "        self.mediator = mediator\n",
    "        self.name = name\n",
    "\n",
    "    def notify(self, message):\n",
    "        print(self.name + \": >>> Out >>>\" + message)\n",
    "        self.mediator.notify(message)\n",
    "\n",
    "    def receive(self, message):\n",
    "        print(self.name + \": <<< In >>> :\" + message)"
   ],
   "id": "38567d35f00ebd1d",
   "outputs": [],
   "execution_count": 3
  },
  {
   "metadata": {
    "ExecuteTime": {
     "end_time": "2025-01-04T12:25:12.893318Z",
     "start_time": "2025-01-04T12:25:12.722865Z"
    }
   },
   "cell_type": "code",
   "source": [
    "class Mediator():\n",
    "    def __init__(self):\n",
    "        self.components = []\n",
    "\n",
    "    def add(self, component):\n",
    "        self.components.append(component)\n",
    "\n",
    "    def notify(self, message):\n",
    "        for _component in self.components:\n",
    "            _component.receive(message)"
   ],
   "id": "36b481d9a8042f25",
   "outputs": [],
   "execution_count": 4
  },
  {
   "metadata": {
    "ExecuteTime": {
     "end_time": "2025-01-04T12:26:13.601218Z",
     "start_time": "2025-01-04T12:26:13.595330Z"
    }
   },
   "cell_type": "code",
   "source": [
    "MEDIATOR = Mediator()\n",
    "COMPONENT1 = Component(MEDIATOR, \"Component1\")\n",
    "COMPONENT2 = Component(MEDIATOR, \"Component2\")\n",
    "COMPONENT3 = Component(MEDIATOR, \"Component3\")\n",
    "MEDIATOR.add(COMPONENT1)\n",
    "MEDIATOR.add(COMPONENT2)\n",
    "MEDIATOR.add(COMPONENT3)\n",
    "\n",
    "COMPONENT1.notify(\"data\")"
   ],
   "id": "7dafacc40f4dfdb1",
   "outputs": [
    {
     "name": "stdout",
     "output_type": "stream",
     "text": [
      "Component1: >>> Out >>>data\n",
      "Component1: <<< In >>> :data\n",
      "Component2: <<< In >>> :data\n",
      "Component3: <<< In >>> :data\n"
     ]
    }
   ],
   "execution_count": 5
  }
 ],
 "metadata": {
  "kernelspec": {
   "display_name": "Python 3",
   "language": "python",
   "name": "python3"
  },
  "language_info": {
   "codemirror_mode": {
    "name": "ipython",
    "version": 2
   },
   "file_extension": ".py",
   "mimetype": "text/x-python",
   "name": "python",
   "nbconvert_exporter": "python",
   "pygments_lexer": "ipython2",
   "version": "2.7.6"
  }
 },
 "nbformat": 4,
 "nbformat_minor": 5
}
