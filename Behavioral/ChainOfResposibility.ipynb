{
 "cells": [
  {
   "cell_type": "code",
   "id": "initial_id",
   "metadata": {
    "collapsed": true,
    "ExecuteTime": {
     "end_time": "2025-01-04T15:20:07.478581Z",
     "start_time": "2025-01-04T15:20:07.472927Z"
    }
   },
   "source": [
    "from abc import  ABCMeta, abstractstaticmethod\n",
    "from math import remainder"
   ],
   "outputs": [],
   "execution_count": 1
  },
  {
   "metadata": {
    "ExecuteTime": {
     "end_time": "2025-01-04T15:20:07.996969Z",
     "start_time": "2025-01-04T15:20:07.989714Z"
    }
   },
   "cell_type": "code",
   "source": [
    "class IHandler(metaclass=ABCMeta):\n",
    "    @abstractstaticmethod\n",
    "    def set_successor(successor):\n",
    "        pass\n",
    "\n",
    "    @abstractstaticmethod\n",
    "    def handle(amount):\n",
    "        pass"
   ],
   "id": "b44129a02f14b3ec",
   "outputs": [],
   "execution_count": 2
  },
  {
   "metadata": {
    "ExecuteTime": {
     "end_time": "2025-01-04T15:20:08.237858Z",
     "start_time": "2025-01-04T15:20:08.092166Z"
    }
   },
   "cell_type": "code",
   "source": [
    "class Dispensor50(IHandler):\n",
    "\n",
    "    def __init__(self):\n",
    "        self._successor = None\n",
    "\n",
    "    def set_successor(self, successor):\n",
    "        self._successor = successor\n",
    "\n",
    "    def handle(self, amount):\n",
    "        if amount >= 50:\n",
    "            num = amount // 50\n",
    "            remainder = amount % 50\n",
    "            print(f\"Dispensing {num} $50 note\")\n",
    "            if remainder != 0:\n",
    "                self._successor.handle(remainder)\n",
    "        else:\n",
    "            self._successor.handle(amount)"
   ],
   "id": "213e7b5819768f29",
   "outputs": [],
   "execution_count": 3
  },
  {
   "metadata": {
    "ExecuteTime": {
     "end_time": "2025-01-04T15:20:08.436167Z",
     "start_time": "2025-01-04T15:20:08.253788Z"
    }
   },
   "cell_type": "code",
   "source": [
    "class Dispensor20(IHandler):\n",
    "\n",
    "    def __init__(self):\n",
    "        self._successor = None\n",
    "\n",
    "    def set_successor(self, successor):\n",
    "        self._successor = successor\n",
    "\n",
    "    def handle(self, amount):\n",
    "        if amount >= 20:\n",
    "            num = amount // 20\n",
    "            remainder = amount % 20\n",
    "            print(f\"Dispensing {num} $20 note\")\n",
    "            if remainder != 0:\n",
    "                self._successor.handle(remainder)\n",
    "        else:\n",
    "            self._successor.handle(amount)"
   ],
   "id": "2b831c43f346ed99",
   "outputs": [],
   "execution_count": 4
  },
  {
   "metadata": {
    "ExecuteTime": {
     "end_time": "2025-01-04T15:21:09.405545Z",
     "start_time": "2025-01-04T15:21:09.401158Z"
    }
   },
   "cell_type": "code",
   "source": [
    "class Dispensor10(IHandler):\n",
    "\n",
    "    def __init__(self):\n",
    "        self._successor = None\n",
    "\n",
    "    def set_successor(self, successor):\n",
    "        self._successor = successor\n",
    "\n",
    "    def handle(self, amount):\n",
    "        if amount >= 10:\n",
    "            num = amount // 10\n",
    "            remainder = amount % 10\n",
    "            print(f\"Dispensing {num} $10 note\")\n",
    "            if remainder != 0:\n",
    "                self._successor.handle(remainder)\n",
    "        else:\n",
    "            self._successor.handle(amount)"
   ],
   "id": "7fb48058c0041b2f",
   "outputs": [],
   "execution_count": 5
  },
  {
   "metadata": {
    "ExecuteTime": {
     "end_time": "2025-01-04T15:21:09.543401Z",
     "start_time": "2025-01-04T15:21:09.424176Z"
    }
   },
   "cell_type": "code",
   "source": [
    "class ATMDispenserChain:\n",
    "\n",
    "    def __init__(self):\n",
    "        self.chain1 = Dispensor50()\n",
    "        self.chain2 = Dispensor20()\n",
    "        self.chain3 = Dispensor10()\n",
    "\n",
    "        self.chain1.set_successor(self.chain2)\n",
    "        self.chain2.set_successor(self.chain3)"
   ],
   "id": "c0f45bb7d22fe0c0",
   "outputs": [],
   "execution_count": 6
  },
  {
   "metadata": {
    "ExecuteTime": {
     "end_time": "2025-01-04T15:21:22.497293Z",
     "start_time": "2025-01-04T15:21:09.565103Z"
    }
   },
   "cell_type": "code",
   "source": [
    "if __name__ == \"__main__\":\n",
    "    ATM = ATMDispenserChain()\n",
    "\n",
    "    AMOUNT = int(input(\"Enter an amount to withdraw\"))\n",
    "    if AMOUNT < 10 or AMOUNT % 10 != 0:\n",
    "        print(\" enter multiple of 10s\")\n",
    "        exit()\n",
    "    ATM.chain1.handle(AMOUNT)\n",
    "    print(\"Now, do spoil yourself\")"
   ],
   "id": "c3996d25b8f37bea",
   "outputs": [
    {
     "name": "stdout",
     "output_type": "stream",
     "text": [
      "Dispensing 1 $50 note\n",
      "Dispensing 1 $20 note\n",
      "Dispensing 1 $10 note\n",
      "Now, do spoil yourself\n"
     ]
    }
   ],
   "execution_count": 7
  }
 ],
 "metadata": {
  "kernelspec": {
   "display_name": "Python 3",
   "language": "python",
   "name": "python3"
  },
  "language_info": {
   "codemirror_mode": {
    "name": "ipython",
    "version": 2
   },
   "file_extension": ".py",
   "mimetype": "text/x-python",
   "name": "python",
   "nbconvert_exporter": "python",
   "pygments_lexer": "ipython2",
   "version": "2.7.6"
  }
 },
 "nbformat": 4,
 "nbformat_minor": 5
}
