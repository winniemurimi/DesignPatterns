{
 "cells": [
  {
   "cell_type": "code",
   "id": "initial_id",
   "metadata": {
    "collapsed": true,
    "ExecuteTime": {
     "end_time": "2025-01-08T19:18:21.785409Z",
     "start_time": "2025-01-08T19:18:21.760991Z"
    }
   },
   "source": "from abc import  ABCMeta, abstractmethod",
   "outputs": [],
   "execution_count": 1
  },
  {
   "metadata": {
    "ExecuteTime": {
     "end_time": "2025-01-08T19:18:22.029607Z",
     "start_time": "2025-01-08T19:18:22.020953Z"
    }
   },
   "cell_type": "code",
   "source": [
    "class IObservable(metaclass=ABCMeta):\n",
    "    @staticmethod\n",
    "    @abstractmethod\n",
    "    def subscribe(observer):\n",
    "        pass\n",
    "\n",
    "    @staticmethod\n",
    "    @abstractmethod\n",
    "    def unsubscribe(observer):\n",
    "        pass\n",
    "\n",
    "    @staticmethod\n",
    "    @abstractmethod\n",
    "    def notify(observer):\n",
    "        pass"
   ],
   "id": "5a098a183e109a5b",
   "outputs": [],
   "execution_count": 2
  },
  {
   "metadata": {
    "ExecuteTime": {
     "end_time": "2025-01-08T19:18:22.369344Z",
     "start_time": "2025-01-08T19:18:22.044740Z"
    }
   },
   "cell_type": "code",
   "source": [
    "class Subject(IObservable):\n",
    "    def __init__(self):\n",
    "        self._observers = set()\n",
    "\n",
    "    def subscribe(self,observer):\n",
    "        self._observers.add(observer)\n",
    "\n",
    "    def unsubscribe(self, observer):\n",
    "        self._observers.remove(observer)\n",
    "\n",
    "    def notify(self, *args, **kwargs):\n",
    "        for observer in self._observers:\n",
    "            observer.notify(self, *args, **kwargs)"
   ],
   "id": "99e2d455edf6eb13",
   "outputs": [],
   "execution_count": 3
  },
  {
   "metadata": {
    "ExecuteTime": {
     "end_time": "2025-01-08T19:18:22.745508Z",
     "start_time": "2025-01-08T19:18:22.740606Z"
    }
   },
   "cell_type": "code",
   "source": [
    "class IObserver(metaclass=ABCMeta):\n",
    "    @staticmethod\n",
    "    @abstractmethod\n",
    "    def notify(observable, *args, **kwargs):\n",
    "        pass"
   ],
   "id": "8bbb008b070be751",
   "outputs": [],
   "execution_count": 4
  },
  {
   "metadata": {
    "ExecuteTime": {
     "end_time": "2025-01-08T19:18:22.988383Z",
     "start_time": "2025-01-08T19:18:22.981980Z"
    }
   },
   "cell_type": "code",
   "source": [
    "class Observer(IObserver):\n",
    "    def __init__(self, observable):\n",
    "        observable.subscribe(self)\n",
    "\n",
    "    def notify(self, observable, *args, **kwargs):\n",
    "        print(\"observer received\", args, kwargs)"
   ],
   "id": "ca3f2d5248d64c94",
   "outputs": [],
   "execution_count": 5
  },
  {
   "metadata": {
    "ExecuteTime": {
     "end_time": "2025-01-08T19:18:23.186178Z",
     "start_time": "2025-01-08T19:18:23.114856Z"
    }
   },
   "cell_type": "code",
   "source": [
    "SUBJECT = Subject()\n",
    "\n",
    "OBSERVER = Observer(SUBJECT)\n",
    "\n",
    "SUBJECT.notify(\"hello observers\")"
   ],
   "id": "87c1d3aef382235e",
   "outputs": [
    {
     "name": "stdout",
     "output_type": "stream",
     "text": [
      "observer received ('hello observers',) {}\n"
     ]
    }
   ],
   "execution_count": 6
  }
 ],
 "metadata": {
  "kernelspec": {
   "display_name": "Python 3",
   "language": "python",
   "name": "python3"
  },
  "language_info": {
   "codemirror_mode": {
    "name": "ipython",
    "version": 2
   },
   "file_extension": ".py",
   "mimetype": "text/x-python",
   "name": "python",
   "nbconvert_exporter": "python",
   "pygments_lexer": "ipython2",
   "version": "2.7.6"
  }
 },
 "nbformat": 4,
 "nbformat_minor": 5
}
