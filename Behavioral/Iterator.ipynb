{
 "cells": [
  {
   "cell_type": "code",
   "id": "initial_id",
   "metadata": {
    "collapsed": true,
    "ExecuteTime": {
     "end_time": "2025-01-09T11:51:31.953251Z",
     "start_time": "2025-01-09T11:51:31.947215Z"
    }
   },
   "source": "from abc import  ABCMeta, abstractmethod",
   "outputs": [],
   "execution_count": 1
  },
  {
   "metadata": {
    "ExecuteTime": {
     "end_time": "2025-01-09T11:51:32.326999Z",
     "start_time": "2025-01-09T11:51:32.222608Z"
    }
   },
   "cell_type": "code",
   "source": [
    "class IIterator(metaclass=ABCMeta):\n",
    "    @staticmethod\n",
    "    @abstractmethod\n",
    "    def has_next():\n",
    "        pass\n",
    "\n",
    "    @staticmethod\n",
    "    @abstractmethod\n",
    "    def next():\n",
    "        pass"
   ],
   "id": "9087387647cb6cc6",
   "outputs": [],
   "execution_count": 2
  },
  {
   "metadata": {
    "ExecuteTime": {
     "end_time": "2025-01-09T11:51:32.720036Z",
     "start_time": "2025-01-09T11:51:32.337569Z"
    }
   },
   "cell_type": "code",
   "source": [
    "class Iterable(IIterator):\n",
    "    def __init__(self):\n",
    "        self.index = 0\n",
    "        self.maximum = 7\n",
    "\n",
    "    def next(self):\n",
    "        if self.index < self.maximum:\n",
    "            x = self.index\n",
    "            self.index += 1\n",
    "            return x\n",
    "        else:\n",
    "            raise  Exception(\"AtEndofIteratorException,\")\n",
    "\n",
    "    def has_next(self):\n",
    "        return  self.index < self.maximum"
   ],
   "id": "274e73b6ed2cf923",
   "outputs": [],
   "execution_count": 3
  },
  {
   "metadata": {
    "ExecuteTime": {
     "end_time": "2025-01-09T11:51:32.897147Z",
     "start_time": "2025-01-09T11:51:32.732731Z"
    }
   },
   "cell_type": "code",
   "source": [
    "ITERABLE = Iterable()\n",
    "print(ITERABLE.next())\n",
    "print(ITERABLE.next())"
   ],
   "id": "751020fbb6cde8e8",
   "outputs": [
    {
     "name": "stdout",
     "output_type": "stream",
     "text": [
      "0\n",
      "1\n"
     ]
    }
   ],
   "execution_count": 4
  }
 ],
 "metadata": {
  "kernelspec": {
   "display_name": "Python 3",
   "language": "python",
   "name": "python3"
  },
  "language_info": {
   "codemirror_mode": {
    "name": "ipython",
    "version": 2
   },
   "file_extension": ".py",
   "mimetype": "text/x-python",
   "name": "python",
   "nbconvert_exporter": "python",
   "pygments_lexer": "ipython2",
   "version": "2.7.6"
  }
 },
 "nbformat": 4,
 "nbformat_minor": 5
}
