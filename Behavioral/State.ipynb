{
 "cells": [
  {
   "cell_type": "code",
   "id": "initial_id",
   "metadata": {
    "collapsed": true,
    "ExecuteTime": {
     "end_time": "2025-01-06T18:11:57.734833Z",
     "start_time": "2025-01-06T18:11:57.728959Z"
    }
   },
   "source": "from abc import ABC, abstractmethod",
   "outputs": [],
   "execution_count": 8
  },
  {
   "metadata": {
    "ExecuteTime": {
     "end_time": "2025-01-06T18:11:57.866865Z",
     "start_time": "2025-01-06T18:11:57.793036Z"
    }
   },
   "cell_type": "code",
   "source": [
    "class State(ABC):\n",
    "\n",
    "    def push_up_btn(self):\n",
    "        pass\n",
    "\n",
    "    def push_down_btn(self):\n",
    "        pass"
   ],
   "id": "34f54ddf7172345f",
   "outputs": [],
   "execution_count": 9
  },
  {
   "metadata": {
    "ExecuteTime": {
     "end_time": "2025-01-06T18:11:58.110085Z",
     "start_time": "2025-01-06T18:11:57.875386Z"
    }
   },
   "cell_type": "code",
   "source": [
    "class GroundFloor(State):\n",
    "\n",
    "    def push_up_btn(self):\n",
    "        self.elevator.set_elevator(FirstFloor())\n",
    "        print(\"you are going to first floor\")\n",
    "\n",
    "    def push_down_btn(self):\n",
    "        self.elevator.set_elevator(GroundFloor())\n",
    "        print(\"you are already at ground floor\")"
   ],
   "id": "34c7f49dd9f95864",
   "outputs": [],
   "execution_count": 10
  },
  {
   "metadata": {
    "ExecuteTime": {
     "end_time": "2025-01-06T18:11:58.331325Z",
     "start_time": "2025-01-06T18:11:58.135382Z"
    }
   },
   "cell_type": "code",
   "source": [
    "class FirstFloor(State):\n",
    "\n",
    "    def push_up_btn(self):\n",
    "        self.elevator.set_elevator(SecondFloor())\n",
    "        print(\"you are going to second floor\")\n",
    "\n",
    "    def push_down_btn(self):\n",
    "        self.elevator.set_elevator(FirstFloor())\n",
    "        print(\"you are already at first floor\")"
   ],
   "id": "b162acceec8b325",
   "outputs": [],
   "execution_count": 11
  },
  {
   "metadata": {
    "ExecuteTime": {
     "end_time": "2025-01-06T18:11:58.548152Z",
     "start_time": "2025-01-06T18:11:58.348563Z"
    }
   },
   "cell_type": "code",
   "source": [
    "class SecondFloor(State):\n",
    "\n",
    "    def push_up_btn(self):\n",
    "        self.elevator.set_elevator(FirstFloor())\n",
    "        print(\"you are going to top floor\")\n",
    "\n",
    "    def push_down_btn(self):\n",
    "        print(\"you are already at second floor\")"
   ],
   "id": "377b1de5624b02fe",
   "outputs": [],
   "execution_count": 12
  },
  {
   "metadata": {
    "ExecuteTime": {
     "end_time": "2025-01-06T18:11:58.712613Z",
     "start_time": "2025-01-06T18:11:58.566015Z"
    }
   },
   "cell_type": "code",
   "source": [
    "class Elevator(object):\n",
    "\n",
    "    def __init__(self) -> None:\n",
    "        self.set_elevator(GroundFloor())\n",
    "\n",
    "    def set_elevator(self, state: State) -> None:\n",
    "        self._state = state\n",
    "        self._state.elevator = self\n",
    "\n",
    "    def push_up(self):\n",
    "        self._state.push_up_btn()\n",
    "\n",
    "    def push_down(self):\n",
    "        self._state.push_down_btn()\n",
    "\n",
    "    def current_state(self):\n",
    "        print(f\"you are at {self._state.__class__.__name__}\")"
   ],
   "id": "56ed4ce26c43ff82",
   "outputs": [],
   "execution_count": 13
  },
  {
   "metadata": {
    "ExecuteTime": {
     "end_time": "2025-01-06T18:11:58.880378Z",
     "start_time": "2025-01-06T18:11:58.732182Z"
    }
   },
   "cell_type": "code",
   "source": [
    "if __name__ == '__main__':\n",
    "    elevator = Elevator()\n",
    "\n",
    "    elevator.current_state()\n",
    "    elevator.push_down()\n",
    "    elevator.push_up()\n",
    "\n",
    "    elevator.current_state()\n",
    "    elevator.push_down()\n",
    "    elevator.current_state()"
   ],
   "id": "e600e497882b80cf",
   "outputs": [
    {
     "name": "stdout",
     "output_type": "stream",
     "text": [
      "you are at GroundFloor\n",
      "you are already at ground floor\n",
      "you are going to first floor\n",
      "you are at FirstFloor\n",
      "you are already at first floor\n",
      "you are at FirstFloor\n"
     ]
    }
   ],
   "execution_count": 14
  }
 ],
 "metadata": {
  "kernelspec": {
   "display_name": "Python 3",
   "language": "python",
   "name": "python3"
  },
  "language_info": {
   "codemirror_mode": {
    "name": "ipython",
    "version": 2
   },
   "file_extension": ".py",
   "mimetype": "text/x-python",
   "name": "python",
   "nbconvert_exporter": "python",
   "pygments_lexer": "ipython2",
   "version": "2.7.6"
  }
 },
 "nbformat": 4,
 "nbformat_minor": 5
}
