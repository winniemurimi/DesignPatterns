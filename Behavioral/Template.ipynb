{
 "cells": [
  {
   "cell_type": "code",
   "id": "initial_id",
   "metadata": {
    "collapsed": true,
    "ExecuteTime": {
     "end_time": "2025-01-12T17:54:40.862148Z",
     "start_time": "2025-01-12T17:54:40.853986Z"
    }
   },
   "source": "from abc import  ABCMeta, abstractmethod",
   "outputs": [],
   "execution_count": 2
  },
  {
   "metadata": {
    "ExecuteTime": {
     "end_time": "2025-01-12T17:54:41.064415Z",
     "start_time": "2025-01-12T17:54:40.974670Z"
    }
   },
   "cell_type": "code",
   "source": [
    "class ThreeDaysTrip(metaclass=ABCMeta):\n",
    "    @abstractmethod\n",
    "    def transport(self):\n",
    "        pass\n",
    "\n",
    "    @abstractmethod\n",
    "    def day1(self):\n",
    "        pass\n",
    "\n",
    "    @abstractmethod\n",
    "    def day2(self):\n",
    "        pass\n",
    "\n",
    "    def day3(self):\n",
    "        pass\n",
    "\n",
    "    def back_to_home(self):\n",
    "        pass\n",
    "\n",
    "    def iternary(self):\n",
    "        print(\"Trip is started\")\n",
    "        self.transport()\n",
    "        self.day1()\n",
    "        self.day2()\n",
    "        self.day3()\n",
    "        self.back_to_home()\n",
    "        print(\"Trip is over\")"
   ],
   "id": "f038fefd8a75063f",
   "outputs": [],
   "execution_count": 3
  },
  {
   "metadata": {
    "ExecuteTime": {
     "end_time": "2025-01-12T17:54:41.325715Z",
     "start_time": "2025-01-12T17:54:41.079549Z"
    }
   },
   "cell_type": "code",
   "source": [
    "class SouthTrip(ThreeDaysTrip):\n",
    "    def transport(self):\n",
    "        print(\"go by train\")\n",
    "\n",
    "    def day1(self):\n",
    "        print(\"Day1: Enjoy hotel\")\n",
    "\n",
    "    def day2(self):\n",
    "        print(\"Day2: Visit place\")\n",
    "\n",
    "    def day3(self):\n",
    "        print(\"Day3: Enjoy shopping day\")\n",
    "\n",
    "    def back_to_home(self):\n",
    "        print(\"Checkout\")"
   ],
   "id": "e0e1e73c2d2258ba",
   "outputs": [],
   "execution_count": 4
  },
  {
   "metadata": {
    "ExecuteTime": {
     "end_time": "2025-01-12T17:54:41.546764Z",
     "start_time": "2025-01-12T17:54:41.431842Z"
    }
   },
   "cell_type": "code",
   "source": [
    "class NorthTrip(ThreeDaysTrip):\n",
    "    def transport(self):\n",
    "        print(\"go by air\")\n",
    "\n",
    "    def day1(self):\n",
    "        print(\"Day1: Enjoy hotel HCC\")\n",
    "\n",
    "    def day2(self):\n",
    "        print(\"Day2: Visit  beautiful place\")\n",
    "\n",
    "    def day3(self):\n",
    "        print(\"Day3: Enjoy shopping day\")\n",
    "\n",
    "    def back_to_home(self):\n",
    "        print(\"Checkout\")"
   ],
   "id": "3e3814c490106a3f",
   "outputs": [],
   "execution_count": 5
  },
  {
   "metadata": {
    "ExecuteTime": {
     "end_time": "2025-01-12T17:54:49.172491Z",
     "start_time": "2025-01-12T17:54:41.567144Z"
    }
   },
   "cell_type": "code",
   "source": [
    "if __name__ == \"__main__\":\n",
    "    place = input(\"where do you want to go\")\n",
    "    if place == \"north\":\n",
    "        trip = NorthTrip()\n",
    "        trip.iternary()\n",
    "    elif place == \"south\":\n",
    "        trip = SouthTrip()\n",
    "        trip.iternary()\n",
    "\n",
    "    else:\n",
    "        print(\"wrong path\")"
   ],
   "id": "67b4b51296243164",
   "outputs": [
    {
     "name": "stdout",
     "output_type": "stream",
     "text": [
      "Trip is started\n",
      "go by train\n",
      "Day1: Enjoy hotel\n",
      "Day2: Visit place\n",
      "Day3: Enjoy shopping day\n",
      "Checkout\n",
      "Trip is over\n"
     ]
    }
   ],
   "execution_count": 6
  }
 ],
 "metadata": {
  "kernelspec": {
   "display_name": "Python 3",
   "language": "python",
   "name": "python3"
  },
  "language_info": {
   "codemirror_mode": {
    "name": "ipython",
    "version": 2
   },
   "file_extension": ".py",
   "mimetype": "text/x-python",
   "name": "python",
   "nbconvert_exporter": "python",
   "pygments_lexer": "ipython2",
   "version": "2.7.6"
  }
 },
 "nbformat": 4,
 "nbformat_minor": 5
}
