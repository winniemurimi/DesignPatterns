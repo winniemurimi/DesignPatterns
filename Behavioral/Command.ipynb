{
 "cells": [
  {
   "metadata": {},
   "cell_type": "markdown",
   "source": "",
   "id": "89558fb8132bdad6"
  },
  {
   "metadata": {
    "ExecuteTime": {
     "end_time": "2025-01-07T14:16:57.095448Z",
     "start_time": "2025-01-07T14:16:57.086730Z"
    }
   },
   "cell_type": "code",
   "source": "from  abc import  ABCMeta, abstractstaticmethod",
   "id": "a989a26b1b9c9ade",
   "outputs": [],
   "execution_count": 22
  },
  {
   "metadata": {
    "ExecuteTime": {
     "end_time": "2025-01-07T14:16:57.225184Z",
     "start_time": "2025-01-07T14:16:57.142360Z"
    }
   },
   "cell_type": "code",
   "source": [
    "class Light:\n",
    "\n",
    "    def Switch_On(self):\n",
    "        print(\"the light is ON\")\n",
    "\n",
    "    def Switch_Off(self):\n",
    "        print(\"The light is Off\")"
   ],
   "id": "b26d8df0a425630f",
   "outputs": [],
   "execution_count": 23
  },
  {
   "metadata": {
    "ExecuteTime": {
     "end_time": "2025-01-07T14:16:57.368967Z",
     "start_time": "2025-01-07T14:16:57.246786Z"
    }
   },
   "cell_type": "code",
   "source": [
    "class ICommand(metaclass=ABCMeta):\n",
    "    abstractstaticmethod\n",
    "    def execute(self):\n",
    "        pass"
   ],
   "id": "10c076c914753242",
   "outputs": [],
   "execution_count": 24
  },
  {
   "metadata": {
    "ExecuteTime": {
     "end_time": "2025-01-07T14:16:57.522625Z",
     "start_time": "2025-01-07T14:16:57.394070Z"
    }
   },
   "cell_type": "code",
   "source": [
    "class SwitchOnCommand(ICommand):\n",
    "    def __init__(self, light):\n",
    "        self.light = light\n",
    "\n",
    "    def execute(self):\n",
    "        self.light.Switch_On()"
   ],
   "id": "386081e5de48656f",
   "outputs": [],
   "execution_count": 25
  },
  {
   "metadata": {
    "ExecuteTime": {
     "end_time": "2025-01-07T14:16:57.685696Z",
     "start_time": "2025-01-07T14:16:57.545065Z"
    }
   },
   "cell_type": "code",
   "source": [
    "class SwitchOffCommand(ICommand):\n",
    "    def __init__(self, light):\n",
    "        self.light = light\n",
    "\n",
    "    def execute(self):\n",
    "        self.light.Switch_Off()"
   ],
   "id": "517d18a2fc206b65",
   "outputs": [],
   "execution_count": 26
  },
  {
   "metadata": {
    "ExecuteTime": {
     "end_time": "2025-01-07T14:16:57.862157Z",
     "start_time": "2025-01-07T14:16:57.709491Z"
    }
   },
   "cell_type": "code",
   "source": [
    "class Switch:\n",
    "\n",
    "    def __init__(self):\n",
    "        self._commands = {}\n",
    "\n",
    "\n",
    "    def register(self, command_name, command):\n",
    "        self._commands[command_name] = command\n",
    "\n",
    "    def execute(self, command_name):\n",
    "        if command_name in self._commands:\n",
    "            self._commands[command_name].execute()\n",
    "        else:\n",
    "            print(\"command not found\")"
   ],
   "id": "b7a2d351144e1698",
   "outputs": [],
   "execution_count": 27
  },
  {
   "metadata": {
    "ExecuteTime": {
     "end_time": "2025-01-07T14:16:58.018831Z",
     "start_time": "2025-01-07T14:16:57.882676Z"
    }
   },
   "cell_type": "code",
   "source": [
    "if __name__ == \"__main__\":\n",
    "    light = Light()\n",
    "\n",
    "    switch_on = SwitchOnCommand(light)\n",
    "    switch_off = SwitchOffCommand(light)\n",
    "\n",
    "    switch = Switch()\n",
    "\n",
    "    switch.register(\"ON\", switch_on)\n",
    "    switch.register(\"OFF\", switch_off)\n",
    "\n",
    "    switch.execute(\"ON\")\n",
    "    switch.execute(\"OFF\")"
   ],
   "id": "30ad104e5c2c49e",
   "outputs": [
    {
     "name": "stdout",
     "output_type": "stream",
     "text": [
      "the light is ON\n",
      "The light is Off\n"
     ]
    }
   ],
   "execution_count": 28
  }
 ],
 "metadata": {
  "kernelspec": {
   "display_name": "Python 3",
   "language": "python",
   "name": "python3"
  },
  "language_info": {
   "codemirror_mode": {
    "name": "ipython",
    "version": 2
   },
   "file_extension": ".py",
   "mimetype": "text/x-python",
   "name": "python",
   "nbconvert_exporter": "python",
   "pygments_lexer": "ipython2",
   "version": "2.7.6"
  }
 },
 "nbformat": 4,
 "nbformat_minor": 5
}
