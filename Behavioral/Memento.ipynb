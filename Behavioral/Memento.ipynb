{
 "cells": [
  {
   "cell_type": "code",
   "id": "initial_id",
   "metadata": {
    "collapsed": true,
    "ExecuteTime": {
     "end_time": "2025-01-07T12:23:39.499058Z",
     "start_time": "2025-01-07T12:23:39.491362Z"
    }
   },
   "source": [
    "class Memento:\n",
    "    def __init__(self, state) -> None:\n",
    "        self.state = state"
   ],
   "outputs": [],
   "execution_count": 1
  },
  {
   "metadata": {
    "ExecuteTime": {
     "end_time": "2025-01-07T12:23:39.742337Z",
     "start_time": "2025-01-07T12:23:39.736467Z"
    }
   },
   "cell_type": "code",
   "source": [
    "class Originator:\n",
    "    def __init__(self) -> None:\n",
    "        self.state = \"Initial string\"\n",
    "\n",
    "    def set_state(self, state):\n",
    "        self.state = state\n",
    "\n",
    "    def get_memento(self):\n",
    "        return  Memento(self.state)\n",
    "\n",
    "    def restore_memento(self, memento):\n",
    "        self.state = memento.state"
   ],
   "id": "b0225490f75b8749",
   "outputs": [],
   "execution_count": 2
  },
  {
   "metadata": {
    "ExecuteTime": {
     "end_time": "2025-01-07T12:23:39.919657Z",
     "start_time": "2025-01-07T12:23:39.768468Z"
    }
   },
   "cell_type": "code",
   "source": [
    "class CareTaker:\n",
    "    def __init__(self) -> None:\n",
    "        self.mementos = []\n",
    "\n",
    "    def add_memento(self, memento):\n",
    "        self.mementos.append(memento)\n",
    "\n",
    "    def get_memento(self, index):\n",
    "        return self.mementos[index]"
   ],
   "id": "604d731a7c087ce6",
   "outputs": [],
   "execution_count": 3
  },
  {
   "metadata": {
    "ExecuteTime": {
     "end_time": "2025-01-07T12:23:40.237007Z",
     "start_time": "2025-01-07T12:23:39.931031Z"
    }
   },
   "cell_type": "code",
   "source": [
    "def main():\n",
    "    originator = Originator()\n",
    "    caretaker = CareTaker()\n",
    "\n",
    "    originator.set_state(\"my name is win\")\n",
    "    memento = originator.get_memento()\n",
    "    caretaker.add_memento(memento)\n",
    "    print(\"current state\", originator.state)\n",
    "\n",
    "    originator.set_state(\"my name is Nat\")\n",
    "    print(\"current state:-\", originator.state)\n",
    "\n",
    "    originator.restore_memento(caretaker.get_memento(0))\n",
    "    print(\"Current state after restoring:-\", originator.state)"
   ],
   "id": "ec9eb6f6e6cb59a4",
   "outputs": [],
   "execution_count": 4
  },
  {
   "metadata": {
    "ExecuteTime": {
     "end_time": "2025-01-07T12:23:40.679661Z",
     "start_time": "2025-01-07T12:23:40.674221Z"
    }
   },
   "cell_type": "code",
   "source": "main()",
   "id": "f85f1b783311d405",
   "outputs": [
    {
     "name": "stdout",
     "output_type": "stream",
     "text": [
      "current state my name is win\n",
      "current state:- my name is Nat\n",
      "Current state after restoring:- my name is win\n"
     ]
    }
   ],
   "execution_count": 5
  }
 ],
 "metadata": {
  "kernelspec": {
   "display_name": "Python 3",
   "language": "python",
   "name": "python3"
  },
  "language_info": {
   "codemirror_mode": {
    "name": "ipython",
    "version": 2
   },
   "file_extension": ".py",
   "mimetype": "text/x-python",
   "name": "python",
   "nbconvert_exporter": "python",
   "pygments_lexer": "ipython2",
   "version": "2.7.6"
  }
 },
 "nbformat": 4,
 "nbformat_minor": 5
}
