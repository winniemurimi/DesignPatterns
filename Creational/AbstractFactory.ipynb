{
 "cells": [
  {
   "cell_type": "code",
   "id": "initial_id",
   "metadata": {
    "collapsed": true,
    "ExecuteTime": {
     "end_time": "2025-01-01T15:20:52.930456Z",
     "start_time": "2025-01-01T15:20:52.924584Z"
    }
   },
   "source": "from abc import  ABC, abstractmethod",
   "outputs": [],
   "execution_count": 1
  },
  {
   "metadata": {
    "ExecuteTime": {
     "end_time": "2025-01-01T15:20:53.337575Z",
     "start_time": "2025-01-01T15:20:53.330968Z"
    }
   },
   "cell_type": "code",
   "source": [
    "class Shape(ABC):\n",
    "    @abstractmethod\n",
    "    def draw(self):\n",
    "        pass"
   ],
   "id": "d09556cadad6fb80",
   "outputs": [],
   "execution_count": 2
  },
  {
   "metadata": {
    "ExecuteTime": {
     "end_time": "2025-01-01T15:20:53.512051Z",
     "start_time": "2025-01-01T15:20:53.362761Z"
    }
   },
   "cell_type": "code",
   "source": [
    "class Color(ABC):\n",
    "    @abstractmethod\n",
    "    def fill(self):\n",
    "        pass"
   ],
   "id": "2c4943b9d36b03ac",
   "outputs": [],
   "execution_count": 3
  },
  {
   "metadata": {
    "ExecuteTime": {
     "end_time": "2025-01-01T15:20:53.687658Z",
     "start_time": "2025-01-01T15:20:53.522567Z"
    }
   },
   "cell_type": "code",
   "source": [
    "class Circle(Shape):\n",
    "    def draw(self):\n",
    "        return \"Drawing a circle\""
   ],
   "id": "a79daf6f60e6deec",
   "outputs": [],
   "execution_count": 4
  },
  {
   "metadata": {
    "ExecuteTime": {
     "end_time": "2025-01-01T15:21:54.371507Z",
     "start_time": "2025-01-01T15:21:54.360209Z"
    }
   },
   "cell_type": "code",
   "source": [
    "class Square(Shape):\n",
    "    def draw(self):\n",
    "        return \"Drawing a square\""
   ],
   "id": "7f4a51d3fea120b9",
   "outputs": [],
   "execution_count": 5
  },
  {
   "metadata": {
    "ExecuteTime": {
     "end_time": "2025-01-01T15:21:54.585654Z",
     "start_time": "2025-01-01T15:21:54.424293Z"
    }
   },
   "cell_type": "code",
   "source": [
    "class Red(Color):\n",
    "    def fill(self):\n",
    "        return \"Filling with red color\""
   ],
   "id": "d1ac73436dc02598",
   "outputs": [],
   "execution_count": 6
  },
  {
   "metadata": {
    "ExecuteTime": {
     "end_time": "2025-01-01T15:21:54.827731Z",
     "start_time": "2025-01-01T15:21:54.822930Z"
    }
   },
   "cell_type": "code",
   "source": [
    "class Blue(Color):\n",
    "    def fill(self):\n",
    "        return \"Filling with blue color\""
   ],
   "id": "ce72213a1d229c8d",
   "outputs": [],
   "execution_count": 7
  },
  {
   "metadata": {
    "ExecuteTime": {
     "end_time": "2025-01-01T15:21:55.035365Z",
     "start_time": "2025-01-01T15:21:54.941376Z"
    }
   },
   "cell_type": "code",
   "source": [
    "#abstract factory\n",
    "class AbstractFctory(ABC):\n",
    "    @abstractmethod\n",
    "    def create_shape(self):\n",
    "        pass\n",
    "\n",
    "    @abstractmethod\n",
    "    def create_color(self):\n",
    "        pass"
   ],
   "id": "86e3fec8a174991f",
   "outputs": [],
   "execution_count": 8
  },
  {
   "metadata": {
    "ExecuteTime": {
     "end_time": "2025-01-01T15:21:55.209588Z",
     "start_time": "2025-01-01T15:21:55.160167Z"
    }
   },
   "cell_type": "code",
   "source": [
    "class RedShapeFctory(AbstractFctory):\n",
    "    def create_shape(self):\n",
    "        return  Circle()\n",
    "\n",
    "    def create_color(self):\n",
    "        return Red()"
   ],
   "id": "ba9696c89fa56df7",
   "outputs": [],
   "execution_count": 9
  },
  {
   "metadata": {
    "ExecuteTime": {
     "end_time": "2025-01-01T15:21:55.363671Z",
     "start_time": "2025-01-01T15:21:55.234459Z"
    }
   },
   "cell_type": "code",
   "source": [
    "class BlueShapeFactory(AbstractFctory):\n",
    "    def create_shape(self):\n",
    "        return  Square\n",
    "\n",
    "    def create_color(self):\n",
    "        return Blue()"
   ],
   "id": "ee5ccf9f467b1ac7",
   "outputs": [],
   "execution_count": 10
  },
  {
   "metadata": {
    "ExecuteTime": {
     "end_time": "2025-01-01T15:21:55.518446Z",
     "start_time": "2025-01-01T15:21:55.377021Z"
    }
   },
   "cell_type": "code",
   "source": [
    "def get_factory(factory_type):\n",
    "    if factory_type == \"red\":\n",
    "        return  RedShapeFctory()\n",
    "    elif factory_type == \"blue\":\n",
    "        return BlueShapeFactory()\n",
    "    else:\n",
    "        raise ValueError(\"Unknown factory type\")\n",
    "\n",
    "factory = get_factory(\"red\")\n",
    "shape = factory.create_shape()\n",
    "color = factory.create_color()\n",
    "\n",
    "print(shape.draw())\n",
    "print(color.fill())"
   ],
   "id": "b3df1a56248ac165",
   "outputs": [
    {
     "name": "stdout",
     "output_type": "stream",
     "text": [
      "Drawing a circle\n",
      "Filling with red color\n"
     ]
    }
   ],
   "execution_count": 11
  }
 ],
 "metadata": {
  "kernelspec": {
   "display_name": "Python 3",
   "language": "python",
   "name": "python3"
  },
  "language_info": {
   "codemirror_mode": {
    "name": "ipython",
    "version": 2
   },
   "file_extension": ".py",
   "mimetype": "text/x-python",
   "name": "python",
   "nbconvert_exporter": "python",
   "pygments_lexer": "ipython2",
   "version": "2.7.6"
  }
 },
 "nbformat": 4,
 "nbformat_minor": 5
}
