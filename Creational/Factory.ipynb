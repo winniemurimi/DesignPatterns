{
 "cells": [
  {
   "cell_type": "code",
   "id": "initial_id",
   "metadata": {
    "collapsed": true,
    "jupyter": {
     "outputs_hidden": true
    },
    "ExecuteTime": {
     "end_time": "2024-12-29T17:57:06.005964Z",
     "start_time": "2024-12-29T17:57:05.996117Z"
    }
   },
   "source": [
    "from abc import ABCMeta, abstractstaticmethod\n",
    "from random import choice\n",
    "\n"
   ],
   "outputs": [],
   "execution_count": 10
  },
  {
   "cell_type": "code",
   "id": "bc3f09d4298c52cf",
   "metadata": {
    "ExecuteTime": {
     "end_time": "2024-12-29T17:57:06.136194Z",
     "start_time": "2024-12-29T17:57:06.063626Z"
    }
   },
   "source": [
    "class IPerson(metaclass=ABCMeta):\n",
    "\n",
    "    @abstractstaticmethod\n",
    "    def person_method():\n",
    "        pass\n",
    "        ### Interface Method ###\n",
    "\n"
   ],
   "outputs": [],
   "execution_count": 11
  },
  {
   "cell_type": "code",
   "id": "fa334d85c534f3a0",
   "metadata": {
    "ExecuteTime": {
     "end_time": "2024-12-29T17:57:06.302814Z",
     "start_time": "2024-12-29T17:57:06.147639Z"
    }
   },
   "source": [
    "class Student(IPerson):\n",
    "    def __init__(self):\n",
    "        self.name = \"Basic student\"\n",
    "\n",
    "    def person_method(self):\n",
    "        print(\"I am a student\")"
   ],
   "outputs": [],
   "execution_count": 12
  },
  {
   "cell_type": "code",
   "id": "7d97b228e70f4a44",
   "metadata": {
    "ExecuteTime": {
     "end_time": "2024-12-29T17:57:06.466893Z",
     "start_time": "2024-12-29T17:57:06.327126Z"
    }
   },
   "source": [
    "class Teacher(IPerson):\n",
    "    def __init__(self):\n",
    "        self.name = \"Basic Teacher Name\"\n",
    "\n",
    "    def person_method(self):\n",
    "        print(\"I am a teacher\")"
   ],
   "outputs": [],
   "execution_count": 13
  },
  {
   "metadata": {
    "ExecuteTime": {
     "end_time": "2024-12-29T17:57:06.636235Z",
     "start_time": "2024-12-29T17:57:06.478588Z"
    }
   },
   "cell_type": "code",
   "source": [
    "class PersonFactory:\n",
    "\n",
    "    @staticmethod\n",
    "    def build_person(person_type):\n",
    "        if person_type == \"Student\":\n",
    "            return  Student()\n",
    "        if person_type == \"Teacher\":\n",
    "            return  Teacher()\n",
    "        print(\"Invalid Type\")\n",
    "        return  -1"
   ],
   "id": "4481189294816bdb",
   "outputs": [],
   "execution_count": 14
  },
  {
   "metadata": {
    "ExecuteTime": {
     "end_time": "2024-12-29T17:57:16.883941Z",
     "start_time": "2024-12-29T17:57:06.654640Z"
    }
   },
   "cell_type": "code",
   "source": [
    "if __name__ == \"__main__\":\n",
    "    choice = input(\"what type of person do you want to create?\\n\")\n",
    "    person = PersonFactory.build_person(choice)\n",
    "    person.person_method()"
   ],
   "id": "e7e539c0a605e079",
   "outputs": [
    {
     "name": "stdout",
     "output_type": "stream",
     "text": [
      "I am a student\n"
     ]
    }
   ],
   "execution_count": 15
  }
 ],
 "metadata": {
  "kernelspec": {
   "display_name": "Python 3 (ipykernel)",
   "language": "python",
   "name": "python3"
  },
  "language_info": {
   "codemirror_mode": {
    "name": "ipython",
    "version": 3
   },
   "file_extension": ".py",
   "mimetype": "text/x-python",
   "name": "python",
   "nbconvert_exporter": "python",
   "pygments_lexer": "ipython3",
   "version": "3.12.2"
  }
 },
 "nbformat": 4,
 "nbformat_minor": 5
}
