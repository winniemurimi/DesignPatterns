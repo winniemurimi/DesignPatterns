{
 "cells": [
  {
   "metadata": {
    "ExecuteTime": {
     "end_time": "2024-12-30T15:56:08.490346Z",
     "start_time": "2024-12-30T15:56:08.368370Z"
    }
   },
   "cell_type": "code",
   "source": [
    "class Singleton:\n",
    "    __shared_instance = None\n",
    "\n",
    "    @staticmethod\n",
    "    def getInstance():\n",
    "        \"\"\"Static Access Method\"\"\"\n",
    "        if Singleton.__shared_instance is None:\n",
    "            Singleton()\n",
    "        return Singleton.__shared_instance\n",
    "\n",
    "    def __init__(self):\n",
    "        \"\"\"Virtual private constructor\"\"\"\n",
    "        if Singleton.__shared_instance is not None:\n",
    "            raise Exception(\"This class is a singleton class!\")\n",
    "        else:\n",
    "            Singleton.__shared_instance = self"
   ],
   "id": "d7bbf975274f97b2",
   "outputs": [],
   "execution_count": 1
  },
  {
   "metadata": {
    "ExecuteTime": {
     "end_time": "2024-12-30T15:56:08.670129Z",
     "start_time": "2024-12-30T15:56:08.524528Z"
    }
   },
   "cell_type": "code",
   "source": [
    "# Main method\n",
    "if __name__ == \"__main__\":\n",
    "    # Create object of Singleton Class\n",
    "    obj1 = Singleton.getInstance()  # Get the singleton instance\n",
    "    print(obj1)\n",
    "\n",
    "    # Try to create another instance\n",
    "    obj2 = Singleton.getInstance()  # Should return the same instance\n",
    "    print(obj2)\n",
    "\n",
    "    # Check if both instances are the same\n",
    "    print(obj1 is obj2)  # This should print True"
   ],
   "id": "df8f9e743a8d2fe8",
   "outputs": [
    {
     "name": "stdout",
     "output_type": "stream",
     "text": [
      "<__main__.Singleton object at 0x7783b07703e0>\n",
      "<__main__.Singleton object at 0x7783b07703e0>\n",
      "True\n"
     ]
    }
   ],
   "execution_count": 2
  }
 ],
 "metadata": {
  "kernelspec": {
   "display_name": "Python 3",
   "language": "python",
   "name": "python3"
  },
  "language_info": {
   "codemirror_mode": {
    "name": "ipython",
    "version": 2
   },
   "file_extension": ".py",
   "mimetype": "text/x-python",
   "name": "python",
   "nbconvert_exporter": "python",
   "pygments_lexer": "ipython2",
   "version": "2.7.6"
  }
 },
 "nbformat": 4,
 "nbformat_minor": 5
}
