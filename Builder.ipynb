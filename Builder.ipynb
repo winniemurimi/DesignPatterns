{
 "cells": [
  {
   "cell_type": "code",
   "id": "initial_id",
   "metadata": {
    "collapsed": true,
    "ExecuteTime": {
     "end_time": "2024-12-31T15:01:06.078661Z",
     "start_time": "2024-12-31T15:01:06.070715Z"
    }
   },
   "source": "from  abc import  ABCMeta, abstractstaticmethod",
   "outputs": [],
   "execution_count": 14
  },
  {
   "metadata": {
    "ExecuteTime": {
     "end_time": "2024-12-31T15:01:06.245529Z",
     "start_time": "2024-12-31T15:01:06.123981Z"
    }
   },
   "cell_type": "code",
   "source": [
    "class IHouseBuilder(metaclass=ABCMeta):\n",
    "    \"\"\"The builder interface\"\"\"\n",
    "\n",
    "    @abstractstaticmethod\n",
    "    def set_wall_material(self, value):\n",
    "        pass\n",
    "\n",
    "    @abstractstaticmethod\n",
    "    def set_building_type(self, value):\n",
    "        pass\n",
    "\n",
    "    @abstractstaticmethod\n",
    "    def set_number_doors(self, value):\n",
    "        pass\n",
    "\n",
    "    @abstractstaticmethod\n",
    "    def set_number_windows(self, value):\n",
    "        pass\n",
    "\n",
    "    @abstractstaticmethod\n",
    "    def get_result(self):\n",
    "        pass"
   ],
   "id": "8dc3c83015ddcc68",
   "outputs": [],
   "execution_count": 15
  },
  {
   "metadata": {
    "ExecuteTime": {
     "end_time": "2024-12-31T15:01:06.408114Z",
     "start_time": "2024-12-31T15:01:06.268103Z"
    }
   },
   "cell_type": "code",
   "source": [
    "class HouseBuilder(IHouseBuilder):\n",
    "    \"\"\"The concrete builder\"\"\"\n",
    "\n",
    "    def __init__(self):\n",
    "        self.house = House()\n",
    "\n",
    "    def set_wall_material(self, value):\n",
    "        self.house.wall_material = value\n",
    "        return self\n",
    "\n",
    "    def set_building_type(self, value):\n",
    "        self.house.building_type = value\n",
    "        return  self\n",
    "\n",
    "    def set_number_doors(self, value):\n",
    "        self.house.doors = value\n",
    "        return  self\n",
    "\n",
    "    def set_number_windows(self, value):\n",
    "        self.house.windows = value\n",
    "        return self\n",
    "\n",
    "    def get_result(self):\n",
    "        return self.house"
   ],
   "id": "e2e80898ad85b584",
   "outputs": [],
   "execution_count": 16
  },
  {
   "metadata": {
    "ExecuteTime": {
     "end_time": "2024-12-31T15:01:06.646036Z",
     "start_time": "2024-12-31T15:01:06.423580Z"
    }
   },
   "cell_type": "code",
   "source": [
    "class House():\n",
    "    \"\"\"The Product\"\"\"\n",
    "\n",
    "    def __init__(self, building_type=\"Apartment\", doors=0, wall_material=0, windows=0):\n",
    "        self.wall_material = wall_material\n",
    "        self.building_type = building_type\n",
    "        self.doors = doors\n",
    "        self.windows = windows\n",
    "\n",
    "    def __str__(self):\n",
    "        return \"This is a {0} {1} with {2} doors and {3} windows.\".format(self.wall_material, self.building_type, self.doors, self.windows)"
   ],
   "id": "11f88b83230ac87b",
   "outputs": [],
   "execution_count": 17
  },
  {
   "metadata": {
    "ExecuteTime": {
     "end_time": "2024-12-31T15:01:06.792418Z",
     "start_time": "2024-12-31T15:01:06.663827Z"
    }
   },
   "cell_type": "code",
   "source": [
    "class IglooDirector:\n",
    "    \"\"\"The director, building a different representation\"\"\"\n",
    "    @staticmethod\n",
    "    def construct():\n",
    "        return  HouseBuilder()\\\n",
    "            .set_building_type(\"Igloo\")\\\n",
    "            .set_wall_material(\"Ice\")\\\n",
    "            .set_number_doors(1)\\\n",
    "            .set_number_windows(5)\\\n",
    "            .get_result()"
   ],
   "id": "200a6cae2bb0c424",
   "outputs": [],
   "execution_count": 18
  },
  {
   "metadata": {
    "ExecuteTime": {
     "end_time": "2024-12-31T15:01:07.014837Z",
     "start_time": "2024-12-31T15:01:06.806923Z"
    }
   },
   "cell_type": "code",
   "source": [
    "class Castle:\n",
    "    \"\"\"The director, building a different representation\"\"\"\n",
    "    @staticmethod\n",
    "    def construct():\n",
    "        return  HouseBuilder()\\\n",
    "            .set_building_type(\"Castle\")\\\n",
    "            .set_wall_material(\"Wood\")\\\n",
    "            .set_number_doors(4)\\\n",
    "            .set_number_windows(8)\\\n",
    "            .get_result()"
   ],
   "id": "5f1c372eaf50694",
   "outputs": [],
   "execution_count": 19
  },
  {
   "metadata": {
    "ExecuteTime": {
     "end_time": "2024-12-31T15:01:07.179842Z",
     "start_time": "2024-12-31T15:01:07.036508Z"
    }
   },
   "cell_type": "code",
   "source": [
    "if __name__ == \"__main__\":\n",
    "    IGLOO = IglooDirector.construct()\n",
    "    CASTLE = Castle.construct()\n",
    "\n",
    "    print(IGLOO)\n",
    "    print(CASTLE)"
   ],
   "id": "46279cde41ef0e66",
   "outputs": [
    {
     "name": "stdout",
     "output_type": "stream",
     "text": [
      "This is a Ice Igloo with 1 doors and 5 windows.\n",
      "This is a Wood Castle with 4 doors and 8 windows.\n"
     ]
    }
   ],
   "execution_count": 20
  }
 ],
 "metadata": {
  "kernelspec": {
   "display_name": "Python 3",
   "language": "python",
   "name": "python3"
  },
  "language_info": {
   "codemirror_mode": {
    "name": "ipython",
    "version": 2
   },
   "file_extension": ".py",
   "mimetype": "text/x-python",
   "name": "python",
   "nbconvert_exporter": "python",
   "pygments_lexer": "ipython2",
   "version": "2.7.6"
  }
 },
 "nbformat": 4,
 "nbformat_minor": 5
}
