{
 "cells": [
  {
   "cell_type": "code",
   "id": "initial_id",
   "metadata": {
    "collapsed": true,
    "ExecuteTime": {
     "end_time": "2025-01-02T16:53:53.889777Z",
     "start_time": "2025-01-02T16:53:53.884995Z"
    }
   },
   "source": "from abc import ABCMeta, abstractmethod",
   "outputs": [],
   "execution_count": 1
  },
  {
   "metadata": {
    "ExecuteTime": {
     "end_time": "2025-01-02T16:53:54.136464Z",
     "start_time": "2025-01-02T16:53:53.933479Z"
    }
   },
   "cell_type": "code",
   "source": [
    "class IA(metaclass=ABCMeta):\n",
    "    @staticmethod\n",
    "    @abstractmethod\n",
    "    def method_a():\n",
    "        pass\n"
   ],
   "id": "baca882938ad0e04",
   "outputs": [],
   "execution_count": 2
  },
  {
   "metadata": {
    "ExecuteTime": {
     "end_time": "2025-01-02T16:53:54.311339Z",
     "start_time": "2025-01-02T16:53:54.252536Z"
    }
   },
   "cell_type": "code",
   "source": [
    "class ClassA(IA):\n",
    "    def method_a(self):\n",
    "        print(\"method A\")"
   ],
   "id": "df80d466a6a139ff",
   "outputs": [],
   "execution_count": 3
  },
  {
   "metadata": {
    "ExecuteTime": {
     "end_time": "2025-01-02T16:53:54.555144Z",
     "start_time": "2025-01-02T16:53:54.335239Z"
    }
   },
   "cell_type": "code",
   "source": [
    "class IB(metaclass=ABCMeta):\n",
    "    @staticmethod\n",
    "    @abstractmethod\n",
    "    def method_b():\n",
    "        pass\n",
    "\n",
    "class ClassB(IB):\n",
    "    def method_b(self):\n",
    "        print(\"method B\")"
   ],
   "id": "4870c05c19b20372",
   "outputs": [],
   "execution_count": 4
  },
  {
   "metadata": {
    "ExecuteTime": {
     "end_time": "2025-01-02T16:53:54.709924Z",
     "start_time": "2025-01-02T16:53:54.575874Z"
    }
   },
   "cell_type": "code",
   "source": [
    "class ClassBAdapter(IA):\n",
    "    def __init__(self):\n",
    "        self.classB = ClassB()\n",
    "\n",
    "    def method_a(self):\n",
    "        self.classB.method_b()"
   ],
   "id": "2e0c411478bef957",
   "outputs": [],
   "execution_count": 5
  },
  {
   "metadata": {
    "ExecuteTime": {
     "end_time": "2025-01-02T16:53:54.874244Z",
     "start_time": "2025-01-02T16:53:54.743249Z"
    }
   },
   "cell_type": "code",
   "source": [
    "ITEM = ClassBAdapter()\n",
    "ITEM.method_a()"
   ],
   "id": "71e87c49cf01e262",
   "outputs": [
    {
     "name": "stdout",
     "output_type": "stream",
     "text": [
      "method B\n"
     ]
    }
   ],
   "execution_count": 6
  }
 ],
 "metadata": {
  "kernelspec": {
   "display_name": "Python 3",
   "language": "python",
   "name": "python3"
  },
  "language_info": {
   "codemirror_mode": {
    "name": "ipython",
    "version": 2
   },
   "file_extension": ".py",
   "mimetype": "text/x-python",
   "name": "python",
   "nbconvert_exporter": "python",
   "pygments_lexer": "ipython2",
   "version": "2.7.6"
  }
 },
 "nbformat": 4,
 "nbformat_minor": 5
}
