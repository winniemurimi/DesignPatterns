{
 "cells": [
  {
   "cell_type": "code",
   "id": "initial_id",
   "metadata": {
    "collapsed": true,
    "ExecuteTime": {
     "end_time": "2025-01-02T15:48:36.259600Z",
     "start_time": "2025-01-02T15:48:36.230958Z"
    }
   },
   "source": "from abc import ABC, abstractmethod",
   "outputs": [],
   "execution_count": 1
  },
  {
   "metadata": {
    "ExecuteTime": {
     "end_time": "2025-01-02T15:48:36.497403Z",
     "start_time": "2025-01-02T15:48:36.482772Z"
    }
   },
   "cell_type": "code",
   "source": [
    "class Shape(ABC):\n",
    "    def __init__(self, color):\n",
    "        self.color = color\n",
    "\n",
    "    @abstractmethod\n",
    "    def display(self):\n",
    "        pass\n",
    "\n",
    "    def print_color(self):\n",
    "        self.color.get_color()"
   ],
   "id": "cbfcbb11fbc58112",
   "outputs": [],
   "execution_count": 2
  },
  {
   "metadata": {
    "ExecuteTime": {
     "end_time": "2025-01-02T15:48:36.763715Z",
     "start_time": "2025-01-02T15:48:36.587046Z"
    }
   },
   "cell_type": "code",
   "source": [
    "class Circle(Shape):\n",
    "    def display(self):\n",
    "        print(\"circle\")\n",
    "\n",
    "class Square(Shape):\n",
    "    def display(self):\n",
    "        print(\"square\")"
   ],
   "id": "8bb4e542b54533f4",
   "outputs": [],
   "execution_count": 3
  },
  {
   "metadata": {
    "ExecuteTime": {
     "end_time": "2025-01-02T15:48:37.014006Z",
     "start_time": "2025-01-02T15:48:36.776060Z"
    }
   },
   "cell_type": "code",
   "source": [
    "class Color(ABC):\n",
    "    @abstractmethod\n",
    "    def get_color(self):\n",
    "        pass"
   ],
   "id": "cbe7902f5c2b7722",
   "outputs": [],
   "execution_count": 4
  },
  {
   "metadata": {
    "ExecuteTime": {
     "end_time": "2025-01-02T15:48:37.998724Z",
     "start_time": "2025-01-02T15:48:37.989706Z"
    }
   },
   "cell_type": "code",
   "source": [
    "class Red(Color):\n",
    "    def get_color(self):\n",
    "        print(\"color red\")\n",
    "\n",
    "class Blue(Color):\n",
    "    def get_color(self):\n",
    "        print(\"color blue\")\n"
   ],
   "id": "ab34cf43fab350ba",
   "outputs": [],
   "execution_count": 5
  },
  {
   "metadata": {
    "ExecuteTime": {
     "end_time": "2025-01-02T15:48:38.226899Z",
     "start_time": "2025-01-02T15:48:38.103744Z"
    }
   },
   "cell_type": "code",
   "source": [
    "red = Red()\n",
    "blue = Blue()\n",
    "red_circle = Circle(red)\n",
    "blue_circle = Circle(blue)\n",
    "\n",
    "red_circle.display()\n",
    "red_circle.print_color()"
   ],
   "id": "eb0db6688c9b683",
   "outputs": [
    {
     "name": "stdout",
     "output_type": "stream",
     "text": [
      "circle\n",
      "color red\n"
     ]
    }
   ],
   "execution_count": 6
  }
 ],
 "metadata": {
  "kernelspec": {
   "display_name": "Python 3",
   "language": "python",
   "name": "python3"
  },
  "language_info": {
   "codemirror_mode": {
    "name": "ipython",
    "version": 2
   },
   "file_extension": ".py",
   "mimetype": "text/x-python",
   "name": "python",
   "nbconvert_exporter": "python",
   "pygments_lexer": "ipython2",
   "version": "2.7.6"
  }
 },
 "nbformat": 4,
 "nbformat_minor": 5
}
