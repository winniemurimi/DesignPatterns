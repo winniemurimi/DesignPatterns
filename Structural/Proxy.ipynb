{
 "cells": [
  {
   "cell_type": "code",
   "id": "initial_id",
   "metadata": {
    "collapsed": true,
    "ExecuteTime": {
     "end_time": "2024-12-31T12:25:58.413655Z",
     "start_time": "2024-12-31T12:25:58.289895Z"
    }
   },
   "source": "from abc import ABCMeta, abstractstaticmethod",
   "outputs": [],
   "execution_count": 1
  },
  {
   "metadata": {
    "ExecuteTime": {
     "end_time": "2024-12-31T12:25:58.925701Z",
     "start_time": "2024-12-31T12:25:58.917436Z"
    }
   },
   "cell_type": "code",
   "source": [
    "class IPerson(metaclass=ABCMeta):\n",
    "\n",
    "    @abstractstaticmethod\n",
    "    def person_method():\n",
    "        \"\"\"Interface Method\"\"\"\n",
    "        pass"
   ],
   "id": "931bf41aeec80d20",
   "outputs": [],
   "execution_count": 2
  },
  {
   "metadata": {
    "ExecuteTime": {
     "end_time": "2024-12-31T12:25:59.237803Z",
     "start_time": "2024-12-31T12:25:58.939429Z"
    }
   },
   "cell_type": "code",
   "source": [
    "class Person(IPerson):\n",
    "\n",
    "    def person_method(self):\n",
    "        print(\"I am a person\")"
   ],
   "id": "2b50f59a3773b4a9",
   "outputs": [],
   "execution_count": 3
  },
  {
   "metadata": {
    "ExecuteTime": {
     "end_time": "2024-12-31T12:25:59.499353Z",
     "start_time": "2024-12-31T12:25:59.254383Z"
    }
   },
   "cell_type": "code",
   "source": [
    "class ProxyPerson(IPerson):\n",
    "\n",
    "    def __init__(self):\n",
    "        self.person = Person()\n",
    "\n",
    "    def person_method(self):\n",
    "        print(\"I am the proxy\")\n",
    "        self.person.person_method()"
   ],
   "id": "3fcc2b56460a0b6f",
   "outputs": [],
   "execution_count": 4
  },
  {
   "metadata": {
    "ExecuteTime": {
     "end_time": "2024-12-31T12:27:00.153715Z",
     "start_time": "2024-12-31T12:27:00.148971Z"
    }
   },
   "cell_type": "code",
   "source": [
    "p1 = Person()\n",
    "p1.person_method()\n",
    "\n",
    "p2 = ProxyPerson()\n",
    "p2.person_method()"
   ],
   "id": "c88469b094bcb2a",
   "outputs": [
    {
     "name": "stdout",
     "output_type": "stream",
     "text": [
      "I am a person\n",
      "I am the proxy\n",
      "I am a person\n"
     ]
    }
   ],
   "execution_count": 5
  }
 ],
 "metadata": {
  "kernelspec": {
   "display_name": "Python 3",
   "language": "python",
   "name": "python3"
  },
  "language_info": {
   "codemirror_mode": {
    "name": "ipython",
    "version": 2
   },
   "file_extension": ".py",
   "mimetype": "text/x-python",
   "name": "python",
   "nbconvert_exporter": "python",
   "pygments_lexer": "ipython2",
   "version": "2.7.6"
  }
 },
 "nbformat": 4,
 "nbformat_minor": 5
}
