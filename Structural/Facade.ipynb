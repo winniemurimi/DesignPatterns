{
 "cells": [
  {
   "cell_type": "code",
   "id": "initial_id",
   "metadata": {
    "collapsed": true,
    "ExecuteTime": {
     "end_time": "2025-01-04T01:33:06.594493Z",
     "start_time": "2025-01-04T01:33:06.585676Z"
    }
   },
   "source": [
    "class SubSystemClassA:\n",
    "    @staticmethod\n",
    "    def method():\n",
    "        return \"A\""
   ],
   "outputs": [],
   "execution_count": 1
  },
  {
   "metadata": {
    "ExecuteTime": {
     "end_time": "2025-01-04T01:33:06.998757Z",
     "start_time": "2025-01-04T01:33:06.993937Z"
    }
   },
   "cell_type": "code",
   "source": [
    "class SubSystemClassB:\n",
    "    @staticmethod\n",
    "    def method():\n",
    "        return \"B\""
   ],
   "id": "d49bc7d060cb1c3a",
   "outputs": [],
   "execution_count": 2
  },
  {
   "metadata": {
    "ExecuteTime": {
     "end_time": "2025-01-04T01:33:07.276967Z",
     "start_time": "2025-01-04T01:33:07.026918Z"
    }
   },
   "cell_type": "code",
   "source": [
    "class SubSystemClassC:\n",
    "    @staticmethod\n",
    "    def method():\n",
    "        return \"C\""
   ],
   "id": "edc713b331815a44",
   "outputs": [],
   "execution_count": 3
  },
  {
   "metadata": {
    "ExecuteTime": {
     "end_time": "2025-01-04T01:33:07.573424Z",
     "start_time": "2025-01-04T01:33:07.292185Z"
    }
   },
   "cell_type": "code",
   "source": [
    "class Facade:\n",
    "    def __init__(self):\n",
    "        self.sub_system_class_a = SubSystemClassA()\n",
    "        self.sub_system_class_b = SubSystemClassB()\n",
    "        self.sub_system_class_c = SubSystemClassC()\n",
    "\n",
    "    def create(self):\n",
    "        result = self.sub_system_class_a.method()\n",
    "        result += self.sub_system_class_b.method()\n",
    "        result += self.sub_system_class_c.method()\n",
    "        return result"
   ],
   "id": "967324e78a1aca1b",
   "outputs": [],
   "execution_count": 4
  },
  {
   "metadata": {
    "ExecuteTime": {
     "end_time": "2025-01-04T01:33:08.168948Z",
     "start_time": "2025-01-04T01:33:08.161668Z"
    }
   },
   "cell_type": "code",
   "source": [
    "FACADE = Facade()\n",
    "RESULT = FACADE.create()\n",
    "print(\"The Result = %s\" % RESULT)"
   ],
   "id": "649b228bce29a32",
   "outputs": [
    {
     "name": "stdout",
     "output_type": "stream",
     "text": [
      "The Result = ABC\n"
     ]
    }
   ],
   "execution_count": 5
  }
 ],
 "metadata": {
  "kernelspec": {
   "display_name": "Python 3",
   "language": "python",
   "name": "python3"
  },
  "language_info": {
   "codemirror_mode": {
    "name": "ipython",
    "version": 2
   },
   "file_extension": ".py",
   "mimetype": "text/x-python",
   "name": "python",
   "nbconvert_exporter": "python",
   "pygments_lexer": "ipython2",
   "version": "2.7.6"
  }
 },
 "nbformat": 4,
 "nbformat_minor": 5
}
