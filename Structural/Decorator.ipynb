{
 "cells": [
  {
   "cell_type": "code",
   "id": "initial_id",
   "metadata": {
    "collapsed": true,
    "ExecuteTime": {
     "end_time": "2025-01-02T16:26:29.512481Z",
     "start_time": "2025-01-02T16:26:29.496580Z"
    }
   },
   "source": [
    "class UndecoratedObject:\n",
    "    @staticmethod\n",
    "    def get():\n",
    "        return  \"Undecorated Object\""
   ],
   "outputs": [],
   "execution_count": 4
  },
  {
   "metadata": {
    "ExecuteTime": {
     "end_time": "2025-01-02T16:26:29.646315Z",
     "start_time": "2025-01-02T16:26:29.556182Z"
    }
   },
   "cell_type": "code",
   "source": [
    "class DecoratedObject:\n",
    "    def __init__(self, undecorated):\n",
    "        self.undecorated= undecorated\n",
    "\n",
    "    def get(self):\n",
    "        return self.undecorated.get().replace(\"Undecorated\", \"Decorated\")"
   ],
   "id": "34aab2a184b4aa65",
   "outputs": [],
   "execution_count": 5
  },
  {
   "metadata": {
    "ExecuteTime": {
     "end_time": "2025-01-02T16:26:29.804680Z",
     "start_time": "2025-01-02T16:26:29.670006Z"
    }
   },
   "cell_type": "code",
   "source": [
    "Undecorated = UndecoratedObject()\n",
    "print(Undecorated.get())\n",
    "\n",
    "Decorated = DecoratedObject(Undecorated)\n",
    "print(Decorated.get())"
   ],
   "id": "384287206c6606fb",
   "outputs": [
    {
     "name": "stdout",
     "output_type": "stream",
     "text": [
      "Undecorated Object\n",
      "Decorated Object\n"
     ]
    }
   ],
   "execution_count": 6
  }
 ],
 "metadata": {
  "kernelspec": {
   "display_name": "Python 3",
   "language": "python",
   "name": "python3"
  },
  "language_info": {
   "codemirror_mode": {
    "name": "ipython",
    "version": 2
   },
   "file_extension": ".py",
   "mimetype": "text/x-python",
   "name": "python",
   "nbconvert_exporter": "python",
   "pygments_lexer": "ipython2",
   "version": "2.7.6"
  }
 },
 "nbformat": 4,
 "nbformat_minor": 5
}
