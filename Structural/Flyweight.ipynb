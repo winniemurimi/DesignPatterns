{
 "cells": [
  {
   "cell_type": "code",
   "id": "initial_id",
   "metadata": {
    "collapsed": true,
    "ExecuteTime": {
     "end_time": "2025-01-04T02:52:51.418320Z",
     "start_time": "2025-01-04T02:52:51.403743Z"
    }
   },
   "source": "from  typing import List, Dict",
   "outputs": [],
   "execution_count": 5
  },
  {
   "metadata": {
    "ExecuteTime": {
     "end_time": "2025-01-04T02:52:51.985846Z",
     "start_time": "2025-01-04T02:52:51.456188Z"
    }
   },
   "cell_type": "code",
   "source": [
    "class SmartPhone:\n",
    "    def __init__(self, properties: List) -> None:\n",
    "        self._properties = properties\n",
    "\n",
    "    def sell(self, owner: str, price:int) -> None:\n",
    "        common = self._properties\n",
    "        print(f\"Smartphone {common} is sold to {owner} for price {price}\")\n",
    "\n",
    "    def __repr__(self) -> str:\n",
    "        return f'SmartPhone!properties={self._properties}'\n"
   ],
   "id": "ee98144f81b7c0a9",
   "outputs": [],
   "execution_count": 6
  },
  {
   "metadata": {
    "ExecuteTime": {
     "end_time": "2025-01-04T02:52:52.163828Z",
     "start_time": "2025-01-04T02:52:52.001243Z"
    }
   },
   "cell_type": "code",
   "source": [
    "class SmartPhoneFactory:\n",
    "    _smartphones: Dict[str, SmartPhone] = {}\n",
    "\n",
    "    def get_smartphone(self, properties: List) -> SmartPhone:\n",
    "\n",
    "        key = '.'.join(properties)\n",
    "        if key in self._smartphones:\n",
    "            print(f\"Returning already existing smartphone object for {properties}\")\n",
    "        else:\n",
    "            print(f\"New smartphone object creted for {properties}\")\n",
    "            self._smartphones[key] = SmartPhone(properties)\n",
    "            return self._smartphones[key]\n",
    "\n",
    "    def list_smartphones(self) -> List[SmartPhone]:\n",
    "\n",
    "        smartphones = self._smartphones.values()\n",
    "        for item in smartphones:\n",
    "            print(item)"
   ],
   "id": "dddf6224ff76d43c",
   "outputs": [],
   "execution_count": 7
  },
  {
   "metadata": {
    "ExecuteTime": {
     "end_time": "2025-01-04T02:52:52.364186Z",
     "start_time": "2025-01-04T02:52:52.195045Z"
    }
   },
   "cell_type": "code",
   "source": [
    "if __name__ == '__main__':\n",
    "    fact = SmartPhoneFactory()\n",
    "    smartphone = fact.get_smartphone(['Apple', 'iPhone14', 'Black', '128 GB'])\n",
    "    smartphone.sell('Hardisk', 59000)\n",
    "\n",
    "    smartphone = fact.get_smartphone(['Apple', 'iPhone13', 'Black', '128 GB'])\n",
    "    smartphone.sell('Arrow', 28000)\n",
    "\n",
    "    smartphone = fact.get_smartphone(['Samsung', 'Galaxy', 'White', '232 GB'])\n",
    "    smartphone.sell('Nat', 46000)\n",
    "\n",
    "    fact.list_smartphones()"
   ],
   "id": "e8dc5255f169c9b4",
   "outputs": [
    {
     "name": "stdout",
     "output_type": "stream",
     "text": [
      "New smartphone object creted for ['Apple', 'iPhone14', 'Black', '128 GB']\n",
      "Smartphone ['Apple', 'iPhone14', 'Black', '128 GB'] is sold to Hardisk for price 59000\n",
      "New smartphone object creted for ['Apple', 'iPhone13', 'Black', '128 GB']\n",
      "Smartphone ['Apple', 'iPhone13', 'Black', '128 GB'] is sold to Arrow for price 28000\n",
      "New smartphone object creted for ['Samsung', 'Galaxy', 'White', '232 GB']\n",
      "Smartphone ['Samsung', 'Galaxy', 'White', '232 GB'] is sold to Nat for price 46000\n",
      "SmartPhone!properties=['Apple', 'iPhone14', 'Black', '128 GB']\n",
      "SmartPhone!properties=['Apple', 'iPhone13', 'Black', '128 GB']\n",
      "SmartPhone!properties=['Samsung', 'Galaxy', 'White', '232 GB']\n"
     ]
    }
   ],
   "execution_count": 8
  }
 ],
 "metadata": {
  "kernelspec": {
   "display_name": "Python 3",
   "language": "python",
   "name": "python3"
  },
  "language_info": {
   "codemirror_mode": {
    "name": "ipython",
    "version": 2
   },
   "file_extension": ".py",
   "mimetype": "text/x-python",
   "name": "python",
   "nbconvert_exporter": "python",
   "pygments_lexer": "ipython2",
   "version": "2.7.6"
  }
 },
 "nbformat": 4,
 "nbformat_minor": 5
}
