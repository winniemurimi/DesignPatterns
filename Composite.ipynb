{
 "cells": [
  {
   "cell_type": "code",
   "id": "initial_id",
   "metadata": {
    "collapsed": true,
    "ExecuteTime": {
     "end_time": "2024-12-30T19:10:57.730576Z",
     "start_time": "2024-12-30T19:10:57.720034Z"
    }
   },
   "source": "from abc import  ABCMeta, abstractmethod, abstractstaticmethod",
   "outputs": [],
   "execution_count": 25
  },
  {
   "metadata": {
    "ExecuteTime": {
     "end_time": "2024-12-30T19:10:57.901205Z",
     "start_time": "2024-12-30T19:10:57.754037Z"
    }
   },
   "cell_type": "code",
   "source": [
    "class IDepartment(metaclass=ABCMeta):\n",
    "\n",
    "    @abstractmethod\n",
    "    def __init__(self, employees):\n",
    "        #Implement in child class\n",
    "        pass"
   ],
   "id": "c840369df0657569",
   "outputs": [],
   "execution_count": 26
  },
  {
   "metadata": {
    "ExecuteTime": {
     "end_time": "2024-12-30T19:10:58.156892Z",
     "start_time": "2024-12-30T19:10:57.915565Z"
    }
   },
   "cell_type": "code",
   "source": [
    "    @abstractstaticmethod\n",
    "    def print_department():\n",
    "        #Implement in child class\n",
    "        pass"
   ],
   "id": "65ebd3625efaa50e",
   "outputs": [],
   "execution_count": 27
  },
  {
   "metadata": {
    "ExecuteTime": {
     "end_time": "2024-12-30T19:10:58.319638Z",
     "start_time": "2024-12-30T19:10:58.182811Z"
    }
   },
   "cell_type": "code",
   "source": [
    "class Accounting(IDepartment):\n",
    "\n",
    "    def __init__(self, employees):\n",
    "        self.employees = employees\n",
    "\n",
    "    def print_department(self):\n",
    "        print(f\"Accounting Department: {self.employees}\")"
   ],
   "id": "3295797e7bfcbc93",
   "outputs": [],
   "execution_count": 28
  },
  {
   "metadata": {
    "ExecuteTime": {
     "end_time": "2024-12-30T19:10:58.474004Z",
     "start_time": "2024-12-30T19:10:58.334443Z"
    }
   },
   "cell_type": "code",
   "source": [
    "class Development(IDepartment):\n",
    "\n",
    "    def __init__(self, employees):\n",
    "        self.employees = employees\n",
    "\n",
    "    def print_department(self):\n",
    "        print(f\"Development Department: {self.employees}\")"
   ],
   "id": "5614648def259852",
   "outputs": [],
   "execution_count": 29
  },
  {
   "metadata": {
    "ExecuteTime": {
     "end_time": "2024-12-30T19:10:58.726970Z",
     "start_time": "2024-12-30T19:10:58.511059Z"
    }
   },
   "cell_type": "code",
   "source": [
    "class ParentDepartment(IDepartment):\n",
    "\n",
    "    def __init__(self, employees):\n",
    "        self.employees = employees\n",
    "        self.base_employees = employees\n",
    "        self.sub_depts = []\n",
    "\n",
    "    def add(self, dept):\n",
    "        self.sub_depts.append(dept)\n",
    "        self.employees += dept.employees\n",
    "\n",
    "    def print_department(self):\n",
    "        print(\"Parent Department\")\n",
    "        print(f\"Parent Department Base Employees: {self.base_employees}\")\n",
    "        for dept in self.sub_depts:\n",
    "            dept.print_department()\n",
    "        print(f\"Total number of employees: {self.employees}\")"
   ],
   "id": "bf281b62b9ddffc2",
   "outputs": [],
   "execution_count": 30
  },
  {
   "metadata": {
    "ExecuteTime": {
     "end_time": "2024-12-30T19:10:58.904110Z",
     "start_time": "2024-12-30T19:10:58.745971Z"
    }
   },
   "cell_type": "code",
   "source": [
    "dept1 = Accounting(200)\n",
    "dept2 = Development(170)\n",
    "\n",
    "parent_dept = ParentDepartment(30)\n",
    "parent_dept.add(dept1)\n",
    "parent_dept.add(dept2)\n",
    "\n",
    "parent_dept.print_department()"
   ],
   "id": "721a3a261a1cf976",
   "outputs": [
    {
     "name": "stdout",
     "output_type": "stream",
     "text": [
      "Parent Department\n",
      "Parent Department Base Employees: 30\n",
      "Accounting Department: 200\n",
      "Development Department: 170\n",
      "Total number of employees: 400\n"
     ]
    }
   ],
   "execution_count": 31
  }
 ],
 "metadata": {
  "kernelspec": {
   "display_name": "Python 3",
   "language": "python",
   "name": "python3"
  },
  "language_info": {
   "codemirror_mode": {
    "name": "ipython",
    "version": 2
   },
   "file_extension": ".py",
   "mimetype": "text/x-python",
   "name": "python",
   "nbconvert_exporter": "python",
   "pygments_lexer": "ipython2",
   "version": "2.7.6"
  }
 },
 "nbformat": 4,
 "nbformat_minor": 5
}
