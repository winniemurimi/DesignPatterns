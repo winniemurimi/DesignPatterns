{
 "cells": [
  {
   "cell_type": "code",
   "id": "initial_id",
   "metadata": {
    "collapsed": true,
    "ExecuteTime": {
     "end_time": "2024-12-31T13:22:39.734249Z",
     "start_time": "2024-12-31T13:22:39.729240Z"
    }
   },
   "source": "from copy import deepcopy\n",
   "outputs": [],
   "execution_count": 1
  },
  {
   "metadata": {
    "ExecuteTime": {
     "end_time": "2024-12-31T13:22:39.914637Z",
     "start_time": "2024-12-31T13:22:39.873451Z"
    }
   },
   "cell_type": "code",
   "source": [
    "#Prototype\n",
    "class Shape:\n",
    "    def __init__(self, shape_type):\n",
    "        self.shape_type = shape_type\n",
    "\n",
    "    def clone(self):\n",
    "        return deepcopy(self)"
   ],
   "id": "ac96daff85dfb558",
   "outputs": [],
   "execution_count": 2
  },
  {
   "metadata": {
    "ExecuteTime": {
     "end_time": "2024-12-31T13:22:40.160915Z",
     "start_time": "2024-12-31T13:22:39.942846Z"
    }
   },
   "cell_type": "code",
   "source": [
    "#ConcretePrototype\n",
    "class Square(Shape):\n",
    "    def __init__(self, side):\n",
    "        super().__init__(\"Square\")\n",
    "        self.side = side\n",
    "\n",
    "    def info(self):\n",
    "        return  f\"A {self.shape_type} of side {self.side}\""
   ],
   "id": "9309c11162179ee8",
   "outputs": [],
   "execution_count": 3
  },
  {
   "metadata": {
    "ExecuteTime": {
     "end_time": "2024-12-31T13:22:40.310330Z",
     "start_time": "2024-12-31T13:22:40.169289Z"
    }
   },
   "cell_type": "code",
   "source": [
    "class Circle(Shape):\n",
    "    def __init__(self, radius):\n",
    "        super().__init__(\"Circle\")\n",
    "        self.radius = radius\n",
    "\n",
    "    def info(self):\n",
    "        return f\"A {self.shape_type} of radius {self.radius}\""
   ],
   "id": "ebbd8ce745732088",
   "outputs": [],
   "execution_count": 4
  },
  {
   "metadata": {
    "ExecuteTime": {
     "end_time": "2024-12-31T13:22:40.489432Z",
     "start_time": "2024-12-31T13:22:40.337672Z"
    }
   },
   "cell_type": "code",
   "source": [
    "if __name__ == '__main__':\n",
    "    circle = Circle(5)\n",
    "    print(circle.info())\n",
    "\n",
    "    square = Square(4)\n",
    "    print(square.info())\n",
    "\n",
    "    another_circle = circle.clone()\n",
    "    another_circle.radius = 7\n",
    "    print(another_circle.info())\n",
    "\n",
    "    another_square = square.clone()\n",
    "    another_square.side = 6\n",
    "    print(another_square.info())"
   ],
   "id": "607fe02b1da20597",
   "outputs": [
    {
     "name": "stdout",
     "output_type": "stream",
     "text": [
      "A Circle of radius 5\n",
      "A Square of side 4\n",
      "A Circle of radius 7\n",
      "A Square of side 6\n"
     ]
    }
   ],
   "execution_count": 5
  }
 ],
 "metadata": {
  "kernelspec": {
   "display_name": "Python 3",
   "language": "python",
   "name": "python3"
  },
  "language_info": {
   "codemirror_mode": {
    "name": "ipython",
    "version": 2
   },
   "file_extension": ".py",
   "mimetype": "text/x-python",
   "name": "python",
   "nbconvert_exporter": "python",
   "pygments_lexer": "ipython2",
   "version": "2.7.6"
  }
 },
 "nbformat": 4,
 "nbformat_minor": 5
}
