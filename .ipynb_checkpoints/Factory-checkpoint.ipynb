{
 "cells": [
  {
   "cell_type": "code",
   "id": "initial_id",
   "metadata": {
    "collapsed": true,
    "ExecuteTime": {
     "end_time": "2024-12-29T17:39:15.708175Z",
     "start_time": "2024-12-29T17:39:15.699594Z"
    }
   },
   "source": [
    "from abc import ABCMeta, abstractstaticmethod\n",
    "\n"
   ],
   "outputs": [],
   "execution_count": 3
  },
  {
   "metadata": {
    "ExecuteTime": {
     "end_time": "2024-12-29T17:39:51.847245Z",
     "start_time": "2024-12-29T17:39:51.833659Z"
    }
   },
   "cell_type": "code",
   "source": [
    "class IPerson(metaclass=ABCMeta):\n",
    "\n",
    "    @abstractstaticmethod\n",
    "    def person_method():\n",
    "        print(\"\")\n",
    "        ### Interface Method ###\n",
    "\n"
   ],
   "id": "bc3f09d4298c52cf",
   "outputs": [],
   "execution_count": 9
  },
  {
   "metadata": {
    "ExecuteTime": {
     "end_time": "2024-12-29T17:39:16.304480Z",
     "start_time": "2024-12-29T17:39:16.136865Z"
    }
   },
   "cell_type": "code",
   "source": [
    "class Student(IPerson):\n",
    "    def __init__(self):\n",
    "        self.name = \"Basic student\"\n",
    "\n",
    "    def person_method(self):\n",
    "        print(\"I am a student\")"
   ],
   "id": "fa334d85c534f3a0",
   "outputs": [],
   "execution_count": 5
  },
  {
   "metadata": {
    "ExecuteTime": {
     "end_time": "2024-12-29T17:39:16.520235Z",
     "start_time": "2024-12-29T17:39:16.516755Z"
    }
   },
   "cell_type": "code",
   "source": [
    "class Teacher(IPerson):\n",
    "    def __init__(self):\n",
    "        self.name = \"Basic Teacher Name\"\n",
    "\n",
    "    def person_method(self):\n",
    "        print(\"I am a teacher\")"
   ],
   "id": "7d97b228e70f4a44",
   "outputs": [],
   "execution_count": 6
  },
  {
   "metadata": {
    "ExecuteTime": {
     "end_time": "2024-12-29T17:39:16.826436Z",
     "start_time": "2024-12-29T17:39:16.819655Z"
    }
   },
   "cell_type": "code",
   "source": [
    "s1 = Student()\n",
    "s1.person_method()"
   ],
   "id": "abf365a1b25c079",
   "outputs": [
    {
     "name": "stdout",
     "output_type": "stream",
     "text": [
      "I am a student\n"
     ]
    }
   ],
   "execution_count": 7
  },
  {
   "metadata": {
    "ExecuteTime": {
     "end_time": "2024-12-29T17:39:17.100255Z",
     "start_time": "2024-12-29T17:39:17.092626Z"
    }
   },
   "cell_type": "code",
   "source": [
    "t1 = Teacher()\n",
    "t1.person_method()"
   ],
   "id": "1bb41898d7fe041f",
   "outputs": [
    {
     "name": "stdout",
     "output_type": "stream",
     "text": [
      "I am a teacher\n"
     ]
    }
   ],
   "execution_count": 8
  }
 ],
 "metadata": {
  "kernelspec": {
   "display_name": "Python 3",
   "language": "python",
   "name": "python3"
  },
  "language_info": {
   "codemirror_mode": {
    "name": "ipython",
    "version": 2
   },
   "file_extension": ".py",
   "mimetype": "text/x-python",
   "name": "python",
   "nbconvert_exporter": "python",
   "pygments_lexer": "ipython2",
   "version": "2.7.6"
  }
 },
 "nbformat": 4,
 "nbformat_minor": 5
}
